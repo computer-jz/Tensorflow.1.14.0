{
 "cells": [
  {
   "cell_type": "code",
   "execution_count": 1,
   "metadata": {
    "collapsed": true
   },
   "outputs": [
    {
     "name": "stderr",
     "output_type": "stream",
     "text": [
      "/Users/jiazhuo/opt/anaconda3/envs/tensorflow/lib/python3.7/site-packages/tensorflow/python/framework/dtypes.py:526: FutureWarning: Passing (type, 1) or '1type' as a synonym of type is deprecated; in a future version of numpy, it will be understood as (type, (1,)) / '(1,)type'.\n",
      "  _np_qint8 = np.dtype([(\"qint8\", np.int8, 1)])\n",
      "/Users/jiazhuo/opt/anaconda3/envs/tensorflow/lib/python3.7/site-packages/tensorflow/python/framework/dtypes.py:527: FutureWarning: Passing (type, 1) or '1type' as a synonym of type is deprecated; in a future version of numpy, it will be understood as (type, (1,)) / '(1,)type'.\n",
      "  _np_quint8 = np.dtype([(\"quint8\", np.uint8, 1)])\n",
      "/Users/jiazhuo/opt/anaconda3/envs/tensorflow/lib/python3.7/site-packages/tensorflow/python/framework/dtypes.py:528: FutureWarning: Passing (type, 1) or '1type' as a synonym of type is deprecated; in a future version of numpy, it will be understood as (type, (1,)) / '(1,)type'.\n",
      "  _np_qint16 = np.dtype([(\"qint16\", np.int16, 1)])\n",
      "/Users/jiazhuo/opt/anaconda3/envs/tensorflow/lib/python3.7/site-packages/tensorflow/python/framework/dtypes.py:529: FutureWarning: Passing (type, 1) or '1type' as a synonym of type is deprecated; in a future version of numpy, it will be understood as (type, (1,)) / '(1,)type'.\n",
      "  _np_quint16 = np.dtype([(\"quint16\", np.uint16, 1)])\n",
      "/Users/jiazhuo/opt/anaconda3/envs/tensorflow/lib/python3.7/site-packages/tensorflow/python/framework/dtypes.py:530: FutureWarning: Passing (type, 1) or '1type' as a synonym of type is deprecated; in a future version of numpy, it will be understood as (type, (1,)) / '(1,)type'.\n",
      "  _np_qint32 = np.dtype([(\"qint32\", np.int32, 1)])\n",
      "/Users/jiazhuo/opt/anaconda3/envs/tensorflow/lib/python3.7/site-packages/tensorflow/python/framework/dtypes.py:535: FutureWarning: Passing (type, 1) or '1type' as a synonym of type is deprecated; in a future version of numpy, it will be understood as (type, (1,)) / '(1,)type'.\n",
      "  np_resource = np.dtype([(\"resource\", np.ubyte, 1)])\n"
     ]
    }
   ],
   "source": [
    "import tensorflow as tf"
   ]
  },
  {
   "cell_type": "code",
   "execution_count": 2,
   "outputs": [
    {
     "name": "stdout",
     "output_type": "stream",
     "text": [
      "0\n",
      "10\n",
      "1\n",
      "11\n",
      "2\n"
     ]
    },
    {
     "name": "stderr",
     "output_type": "stream",
     "text": [
      "2022-11-29 14:28:39.418271: I tensorflow/core/platform/cpu_feature_guard.cc:141] Your CPU supports instructions that this TensorFlow binary was not compiled to use: SSE4.1 SSE4.2\n",
      "2022-11-29 14:28:39.419191: I tensorflow/core/common_runtime/process_util.cc:71] Creating new thread pool with default inter op setting: 8. Tune using inter_op_parallelism_threads for best performance.\n"
     ]
    }
   ],
   "source": [
    "#创建一个先进先出队列，指定队列中最多可以保存两个元素，类型为整数\n",
    "q=tf.FIFOQueue(2,'int32')\n",
    "\n",
    "#使用enqueue_many函数来初始化队列中的元素，和变量的初始化类似，使用队列之前要明确的调用这个初始化过程\n",
    "init=q.enqueue_many(([0,10],))\n",
    "\n",
    "#使用Dequeue函数将队列中的第一个元素出列\n",
    "x=q.dequeue()\n",
    "y=x+1\n",
    "\n",
    "#将加1的值重新加入到队列\n",
    "q_inc=q.enqueue([y])\n",
    "\n",
    "with tf.Session() as sess:\n",
    "    #运行初始化队列的操作\n",
    "    init.run()\n",
    "    for _ in range(5):\n",
    "        #运行q_inc，会执行数据出队列，然后值加1，重新入队列的整个过程\n",
    "        v,_=sess.run([x,q_inc])\n",
    "\n",
    "        #打印出队元素取值\n",
    "        print(v)"
   ],
   "metadata": {
    "collapsed": false,
    "pycharm": {
     "name": "#%%\n"
    }
   }
  },
  {
   "cell_type": "markdown",
   "source": [
    "#### tf.Coordinator主要协同多个线程一起停止"
   ],
   "metadata": {
    "collapsed": false
   }
  },
  {
   "cell_type": "code",
   "execution_count": null,
   "outputs": [],
   "source": [
    "import numpy as np\n",
    "import threading\n",
    "import time\n"
   ],
   "metadata": {
    "collapsed": false,
    "pycharm": {
     "name": "#%%\n"
    }
   }
  },
  {
   "cell_type": "code",
   "execution_count": 4,
   "outputs": [
    {
     "name": "stdout",
     "output_type": "stream",
     "text": [
      "[-3.1342235]\n",
      "[0.15242942]\n",
      "[0.5062545]\n"
     ]
    }
   ],
   "source": [
    "queue=tf.FIFOQueue(100,'float')\n",
    "#定义入队操作\n",
    "enqueue_op=queue.enqueue([tf.random_normal([1])])\n",
    "\n",
    "#使用tf.train.QueueRunner创建多线程来运行入队的操作，下面创建了5个线程\n",
    "qr=tf.train.QueueRunner(queue,[enqueue_op]*5)\n",
    "\n",
    "#将定义过的QueueRunner加入到tf计算图上指定的集合\n",
    "tf.train.add_queue_runner(qr)\n",
    "\n",
    "#定义出队操作\n",
    "out_tensor=queue.dequeue()\n",
    "\n",
    "with tf.Session() as sess:\n",
    "    coord=tf.train.Coordinator()\n",
    "\n",
    "    #启动所有的线程\n",
    "    threads=tf.train.start_queue_runners(sess=sess,coord=coord)\n",
    "\n",
    "    #获取队列中的取值\n",
    "    for _ in range(3):\n",
    "        print(sess.run(out_tensor))\n",
    "\n",
    "    #使用Coordinator停止线程\n",
    "    coord.request_stop()\n",
    "    coord.join(threads)\n"
   ],
   "metadata": {
    "collapsed": false,
    "pycharm": {
     "name": "#%%\n"
    }
   }
  },
  {
   "cell_type": "markdown",
   "source": [
    "#### 输入对列\n",
    "\n"
   ],
   "metadata": {
    "collapsed": false,
    "pycharm": {
     "name": "#%% md\n"
    }
   }
  },
  {
   "cell_type": "code",
   "execution_count": null,
   "outputs": [],
   "source": [],
   "metadata": {
    "collapsed": false,
    "pycharm": {
     "name": "#%%\n"
    }
   }
  }
 ],
 "metadata": {
  "kernelspec": {
   "display_name": "Python 3",
   "language": "python",
   "name": "python3"
  },
  "language_info": {
   "codemirror_mode": {
    "name": "ipython",
    "version": 2
   },
   "file_extension": ".py",
   "mimetype": "text/x-python",
   "name": "python",
   "nbconvert_exporter": "python",
   "pygments_lexer": "ipython2",
   "version": "2.7.6"
  }
 },
 "nbformat": 4,
 "nbformat_minor": 0
}