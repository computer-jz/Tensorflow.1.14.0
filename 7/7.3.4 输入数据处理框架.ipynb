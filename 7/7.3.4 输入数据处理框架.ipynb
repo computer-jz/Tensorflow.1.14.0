{
 "cells": [
  {
   "cell_type": "code",
   "execution_count": 1,
   "metadata": {
    "collapsed": true
   },
   "outputs": [
    {
     "name": "stderr",
     "output_type": "stream",
     "text": [
      "/Users/jiazhuo/opt/anaconda3/envs/tensorflow/lib/python3.7/site-packages/tensorflow/python/framework/dtypes.py:526: FutureWarning: Passing (type, 1) or '1type' as a synonym of type is deprecated; in a future version of numpy, it will be understood as (type, (1,)) / '(1,)type'.\n",
      "  _np_qint8 = np.dtype([(\"qint8\", np.int8, 1)])\n",
      "/Users/jiazhuo/opt/anaconda3/envs/tensorflow/lib/python3.7/site-packages/tensorflow/python/framework/dtypes.py:527: FutureWarning: Passing (type, 1) or '1type' as a synonym of type is deprecated; in a future version of numpy, it will be understood as (type, (1,)) / '(1,)type'.\n",
      "  _np_quint8 = np.dtype([(\"quint8\", np.uint8, 1)])\n",
      "/Users/jiazhuo/opt/anaconda3/envs/tensorflow/lib/python3.7/site-packages/tensorflow/python/framework/dtypes.py:528: FutureWarning: Passing (type, 1) or '1type' as a synonym of type is deprecated; in a future version of numpy, it will be understood as (type, (1,)) / '(1,)type'.\n",
      "  _np_qint16 = np.dtype([(\"qint16\", np.int16, 1)])\n",
      "/Users/jiazhuo/opt/anaconda3/envs/tensorflow/lib/python3.7/site-packages/tensorflow/python/framework/dtypes.py:529: FutureWarning: Passing (type, 1) or '1type' as a synonym of type is deprecated; in a future version of numpy, it will be understood as (type, (1,)) / '(1,)type'.\n",
      "  _np_quint16 = np.dtype([(\"quint16\", np.uint16, 1)])\n",
      "/Users/jiazhuo/opt/anaconda3/envs/tensorflow/lib/python3.7/site-packages/tensorflow/python/framework/dtypes.py:530: FutureWarning: Passing (type, 1) or '1type' as a synonym of type is deprecated; in a future version of numpy, it will be understood as (type, (1,)) / '(1,)type'.\n",
      "  _np_qint32 = np.dtype([(\"qint32\", np.int32, 1)])\n",
      "/Users/jiazhuo/opt/anaconda3/envs/tensorflow/lib/python3.7/site-packages/tensorflow/python/framework/dtypes.py:535: FutureWarning: Passing (type, 1) or '1type' as a synonym of type is deprecated; in a future version of numpy, it will be understood as (type, (1,)) / '(1,)type'.\n",
      "  np_resource = np.dtype([(\"resource\", np.ubyte, 1)])\n"
     ]
    }
   ],
   "source": [
    "import tensorflow as tf"
   ]
  },
  {
   "cell_type": "code",
   "execution_count": null,
   "outputs": [],
   "source": [
    "#创建\n",
    "files=tf.train.match_filenames_once(\"\")\n",
    "#一般设置为True\n",
    "filename_queue=tf.train.string_input_producer(files,shuffle=False)\n",
    "\n",
    "\n",
    "reader=tf.TFRecordReader()\n",
    "_,serialized_example=reader.read(filename_queue)\n",
    "features=tf.parse_single_example(serialized_example,\n",
    "                                 features={\n",
    "                                     'image':tf.FixedLenFeature([],tf.string),\n",
    "                                     'lable':tf.FixedLenFeature([],tf.int64),\n",
    "                                     'height':tf.FixedLenFeature([],tf.int64),\n",
    "                                     'width':tf.FixedLenFeature([],tf.int64),\n",
    "                                     'channels':tf.FixedLenFeature([],tf.int64),\n",
    "                                 })\n",
    "image,lable=features['image'],features['lable']\n",
    "height,width=features['height'],features['width']\n",
    "channels=features['channels']\n",
    "\n",
    "#\n",
    "decoded_image=tf.decode_raw(image,tf.uint8)\n",
    "decoded_image.set_shape([height,width,channels])\n",
    "\n",
    "image_size=299\n",
    "distored_image=preprocess_for_train(decoded_image,image_size,image_size,None)\n",
    "\n",
    "min_after_dequeue=10000\n",
    "batch_size=100\n",
    "capacity=min_after_dequeue+3*batch_size\n",
    "image_batch,lable_batch=tf.train.shuffle_batch([distored_image,lable],batch_size=batch_size\n",
    "                                               capacity=capacity,min_after_dequeue=min_after_dequeue)\n",
    "\n",
    "\n",
    "learning_rate=0.01\n",
    "\n",
    "#forward   前向传播\n",
    "logit=forward(image_batch)\n",
    "\n",
    "loss=caculte_loss(logit,lable_batch)\n",
    "train_step=tf.train.GradientDescentOptimizer(learning_rate).minimize(loss)\n",
    "\n",
    "\n",
    "with tf.Session() as sess:\n",
    "    sess.run((tf.global_variables_initializer(),tf.local_variables_initializer))\n",
    "    coord=tf.train.Coordinator()\n",
    "    threads=tf.train.start_queue_runners(sess=sess,coord=coord)\n",
    "\n",
    "    TRAINING_ROUNDS=5000\n",
    "    for i in range(TRAINING_ROUNDS):\n",
    "        sess.run(train_step)\n",
    "\n",
    "    coord.request_stop()\n",
    "    coord.join(threads)"
   ],
   "metadata": {
    "collapsed": false,
    "pycharm": {
     "name": "#%%\n"
    }
   }
  }
 ],
 "metadata": {
  "kernelspec": {
   "display_name": "Python 3",
   "language": "python",
   "name": "python3"
  },
  "language_info": {
   "codemirror_mode": {
    "name": "ipython",
    "version": 2
   },
   "file_extension": ".py",
   "mimetype": "text/x-python",
   "name": "python",
   "nbconvert_exporter": "python",
   "pygments_lexer": "ipython2",
   "version": "2.7.6"
  }
 },
 "nbformat": 4,
 "nbformat_minor": 0
}